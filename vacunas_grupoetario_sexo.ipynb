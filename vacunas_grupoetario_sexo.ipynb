{
 "metadata": {
  "language_info": {
   "codemirror_mode": {
    "name": "ipython",
    "version": 3
   },
   "file_extension": ".py",
   "mimetype": "text/x-python",
   "name": "python",
   "nbconvert_exporter": "python",
   "pygments_lexer": "ipython3",
   "version": "3.7.4"
  },
  "orig_nbformat": 2,
  "kernelspec": {
   "name": "python374jvsc74a57bd07ca52e3278411fb2072c261e0a33922227349dd18a53357c92fccdadfb3dad72",
   "display_name": "Python 3.7.4 64-bit"
  }
 },
 "nbformat": 4,
 "nbformat_minor": 2,
 "cells": [
  {
   "source": [
    "Análisis de vacunación COVID19 en total país por grupo etario y sexo"
   ],
   "cell_type": "markdown",
   "metadata": {}
  },
  {
   "cell_type": "code",
   "execution_count": 13,
   "metadata": {},
   "outputs": [],
   "source": [
    "import pandas as pd\n",
    "import numpy as np\n",
    "from chart_studio import plotly as py\n",
    "import plotly.graph_objs as go\n",
    "import plotly.graph_objects as gp\n",
    "from plotly.subplots import make_subplots"
   ]
  },
  {
   "cell_type": "code",
   "execution_count": 25,
   "metadata": {},
   "outputs": [
    {
     "output_type": "stream",
     "name": "stdout",
     "text": [
      "7002105\n"
     ]
    },
    {
     "output_type": "display_data",
     "data": {
      "application/vnd.plotly.v1+json": {
       "config": {
        "plotlyServerURL": "https://plot.ly"
       },
       "data": [
        {
         "hoverinfo": "x",
         "marker": {
          "color": "#E1C340"
         },
         "name": "1ra Dosis",
         "orientation": "h",
         "type": "bar",
         "x": [
          2.15,
          4.78,
          5.65,
          4.73,
          12.22,
          14.81,
          7.06,
          1.36,
          0.03
         ],
         "y": [
          "18-29",
          "30-39",
          "40-49",
          "50-59",
          "60-69",
          "70-79",
          "80-89",
          "90-99",
          ">=100"
         ]
        },
        {
         "hoverinfo": "x",
         "marker": {
          "color": "#F8EA8C"
         },
         "name": "2da Dosis",
         "orientation": "h",
         "type": "bar",
         "x": [
          0.76,
          1.77,
          1.79,
          1.25,
          0.78,
          0.97,
          0.51,
          0.15,
          0
         ],
         "y": [
          "18-29",
          "30-39",
          "40-49",
          "50-59",
          "60-69",
          "70-79",
          "80-89",
          "90-99",
          ">=100"
         ]
        },
        {
         "hoverinfo": "text",
         "marker": {
          "color": "#4CD7D0"
         },
         "name": "1ra Dosis",
         "orientation": "h",
         "text": [
          1.21,
          2.37,
          2.71,
          2.62,
          10.32,
          11.19,
          3.93,
          0.48,
          0.01
         ],
         "type": "bar",
         "x": [
          -1.21,
          -2.37,
          -2.71,
          -2.62,
          -10.32,
          -11.19,
          -3.93,
          -0.48,
          -0.01
         ],
         "y": [
          "18-29",
          "30-39",
          "40-49",
          "50-59",
          "60-69",
          "70-79",
          "80-89",
          "90-99",
          ">=100"
         ]
        },
        {
         "hoverinfo": "text",
         "marker": {
          "color": "#A4E8E0"
         },
         "name": "2da Dosis",
         "orientation": "h",
         "text": [
          0.35,
          0.81,
          0.84,
          0.65,
          0.56,
          0.82,
          0.32,
          0.05,
          0
         ],
         "type": "bar",
         "x": [
          -0.35,
          -0.81,
          -0.84,
          -0.65,
          -0.56,
          -0.82,
          -0.32,
          -0.05,
          0
         ],
         "y": [
          "18-29",
          "30-39",
          "40-49",
          "50-59",
          "60-69",
          "70-79",
          "80-89",
          "90-99",
          ">=100"
         ]
        }
       ],
       "layout": {
        "annotations": [
         {
          "font": {
           "size": 16
          },
          "showarrow": false,
          "text": "Varones",
          "x": 0.24925,
          "xanchor": "center",
          "xref": "paper",
          "y": 1,
          "yanchor": "bottom",
          "yref": "paper"
         },
         {
          "font": {
           "size": 16
          },
          "showarrow": false,
          "text": "Mujeres",
          "x": 0.75075,
          "xanchor": "center",
          "xref": "paper",
          "y": 1,
          "yanchor": "bottom",
          "yref": "paper"
         }
        ],
        "bargap": 0.1,
        "barmode": "overlay",
        "template": {
         "data": {
          "bar": [
           {
            "error_x": {
             "color": "#2a3f5f"
            },
            "error_y": {
             "color": "#2a3f5f"
            },
            "marker": {
             "line": {
              "color": "#E5ECF6",
              "width": 0.5
             }
            },
            "type": "bar"
           }
          ],
          "barpolar": [
           {
            "marker": {
             "line": {
              "color": "#E5ECF6",
              "width": 0.5
             }
            },
            "type": "barpolar"
           }
          ],
          "carpet": [
           {
            "aaxis": {
             "endlinecolor": "#2a3f5f",
             "gridcolor": "white",
             "linecolor": "white",
             "minorgridcolor": "white",
             "startlinecolor": "#2a3f5f"
            },
            "baxis": {
             "endlinecolor": "#2a3f5f",
             "gridcolor": "white",
             "linecolor": "white",
             "minorgridcolor": "white",
             "startlinecolor": "#2a3f5f"
            },
            "type": "carpet"
           }
          ],
          "choropleth": [
           {
            "colorbar": {
             "outlinewidth": 0,
             "ticks": ""
            },
            "type": "choropleth"
           }
          ],
          "contour": [
           {
            "colorbar": {
             "outlinewidth": 0,
             "ticks": ""
            },
            "colorscale": [
             [
              0,
              "#0d0887"
             ],
             [
              0.1111111111111111,
              "#46039f"
             ],
             [
              0.2222222222222222,
              "#7201a8"
             ],
             [
              0.3333333333333333,
              "#9c179e"
             ],
             [
              0.4444444444444444,
              "#bd3786"
             ],
             [
              0.5555555555555556,
              "#d8576b"
             ],
             [
              0.6666666666666666,
              "#ed7953"
             ],
             [
              0.7777777777777778,
              "#fb9f3a"
             ],
             [
              0.8888888888888888,
              "#fdca26"
             ],
             [
              1,
              "#f0f921"
             ]
            ],
            "type": "contour"
           }
          ],
          "contourcarpet": [
           {
            "colorbar": {
             "outlinewidth": 0,
             "ticks": ""
            },
            "type": "contourcarpet"
           }
          ],
          "heatmap": [
           {
            "colorbar": {
             "outlinewidth": 0,
             "ticks": ""
            },
            "colorscale": [
             [
              0,
              "#0d0887"
             ],
             [
              0.1111111111111111,
              "#46039f"
             ],
             [
              0.2222222222222222,
              "#7201a8"
             ],
             [
              0.3333333333333333,
              "#9c179e"
             ],
             [
              0.4444444444444444,
              "#bd3786"
             ],
             [
              0.5555555555555556,
              "#d8576b"
             ],
             [
              0.6666666666666666,
              "#ed7953"
             ],
             [
              0.7777777777777778,
              "#fb9f3a"
             ],
             [
              0.8888888888888888,
              "#fdca26"
             ],
             [
              1,
              "#f0f921"
             ]
            ],
            "type": "heatmap"
           }
          ],
          "heatmapgl": [
           {
            "colorbar": {
             "outlinewidth": 0,
             "ticks": ""
            },
            "colorscale": [
             [
              0,
              "#0d0887"
             ],
             [
              0.1111111111111111,
              "#46039f"
             ],
             [
              0.2222222222222222,
              "#7201a8"
             ],
             [
              0.3333333333333333,
              "#9c179e"
             ],
             [
              0.4444444444444444,
              "#bd3786"
             ],
             [
              0.5555555555555556,
              "#d8576b"
             ],
             [
              0.6666666666666666,
              "#ed7953"
             ],
             [
              0.7777777777777778,
              "#fb9f3a"
             ],
             [
              0.8888888888888888,
              "#fdca26"
             ],
             [
              1,
              "#f0f921"
             ]
            ],
            "type": "heatmapgl"
           }
          ],
          "histogram": [
           {
            "marker": {
             "colorbar": {
              "outlinewidth": 0,
              "ticks": ""
             }
            },
            "type": "histogram"
           }
          ],
          "histogram2d": [
           {
            "colorbar": {
             "outlinewidth": 0,
             "ticks": ""
            },
            "colorscale": [
             [
              0,
              "#0d0887"
             ],
             [
              0.1111111111111111,
              "#46039f"
             ],
             [
              0.2222222222222222,
              "#7201a8"
             ],
             [
              0.3333333333333333,
              "#9c179e"
             ],
             [
              0.4444444444444444,
              "#bd3786"
             ],
             [
              0.5555555555555556,
              "#d8576b"
             ],
             [
              0.6666666666666666,
              "#ed7953"
             ],
             [
              0.7777777777777778,
              "#fb9f3a"
             ],
             [
              0.8888888888888888,
              "#fdca26"
             ],
             [
              1,
              "#f0f921"
             ]
            ],
            "type": "histogram2d"
           }
          ],
          "histogram2dcontour": [
           {
            "colorbar": {
             "outlinewidth": 0,
             "ticks": ""
            },
            "colorscale": [
             [
              0,
              "#0d0887"
             ],
             [
              0.1111111111111111,
              "#46039f"
             ],
             [
              0.2222222222222222,
              "#7201a8"
             ],
             [
              0.3333333333333333,
              "#9c179e"
             ],
             [
              0.4444444444444444,
              "#bd3786"
             ],
             [
              0.5555555555555556,
              "#d8576b"
             ],
             [
              0.6666666666666666,
              "#ed7953"
             ],
             [
              0.7777777777777778,
              "#fb9f3a"
             ],
             [
              0.8888888888888888,
              "#fdca26"
             ],
             [
              1,
              "#f0f921"
             ]
            ],
            "type": "histogram2dcontour"
           }
          ],
          "mesh3d": [
           {
            "colorbar": {
             "outlinewidth": 0,
             "ticks": ""
            },
            "type": "mesh3d"
           }
          ],
          "parcoords": [
           {
            "line": {
             "colorbar": {
              "outlinewidth": 0,
              "ticks": ""
             }
            },
            "type": "parcoords"
           }
          ],
          "pie": [
           {
            "automargin": true,
            "type": "pie"
           }
          ],
          "scatter": [
           {
            "marker": {
             "colorbar": {
              "outlinewidth": 0,
              "ticks": ""
             }
            },
            "type": "scatter"
           }
          ],
          "scatter3d": [
           {
            "line": {
             "colorbar": {
              "outlinewidth": 0,
              "ticks": ""
             }
            },
            "marker": {
             "colorbar": {
              "outlinewidth": 0,
              "ticks": ""
             }
            },
            "type": "scatter3d"
           }
          ],
          "scattercarpet": [
           {
            "marker": {
             "colorbar": {
              "outlinewidth": 0,
              "ticks": ""
             }
            },
            "type": "scattercarpet"
           }
          ],
          "scattergeo": [
           {
            "marker": {
             "colorbar": {
              "outlinewidth": 0,
              "ticks": ""
             }
            },
            "type": "scattergeo"
           }
          ],
          "scattergl": [
           {
            "marker": {
             "colorbar": {
              "outlinewidth": 0,
              "ticks": ""
             }
            },
            "type": "scattergl"
           }
          ],
          "scattermapbox": [
           {
            "marker": {
             "colorbar": {
              "outlinewidth": 0,
              "ticks": ""
             }
            },
            "type": "scattermapbox"
           }
          ],
          "scatterpolar": [
           {
            "marker": {
             "colorbar": {
              "outlinewidth": 0,
              "ticks": ""
             }
            },
            "type": "scatterpolar"
           }
          ],
          "scatterpolargl": [
           {
            "marker": {
             "colorbar": {
              "outlinewidth": 0,
              "ticks": ""
             }
            },
            "type": "scatterpolargl"
           }
          ],
          "scatterternary": [
           {
            "marker": {
             "colorbar": {
              "outlinewidth": 0,
              "ticks": ""
             }
            },
            "type": "scatterternary"
           }
          ],
          "surface": [
           {
            "colorbar": {
             "outlinewidth": 0,
             "ticks": ""
            },
            "colorscale": [
             [
              0,
              "#0d0887"
             ],
             [
              0.1111111111111111,
              "#46039f"
             ],
             [
              0.2222222222222222,
              "#7201a8"
             ],
             [
              0.3333333333333333,
              "#9c179e"
             ],
             [
              0.4444444444444444,
              "#bd3786"
             ],
             [
              0.5555555555555556,
              "#d8576b"
             ],
             [
              0.6666666666666666,
              "#ed7953"
             ],
             [
              0.7777777777777778,
              "#fb9f3a"
             ],
             [
              0.8888888888888888,
              "#fdca26"
             ],
             [
              1,
              "#f0f921"
             ]
            ],
            "type": "surface"
           }
          ],
          "table": [
           {
            "cells": {
             "fill": {
              "color": "#EBF0F8"
             },
             "line": {
              "color": "white"
             }
            },
            "header": {
             "fill": {
              "color": "#C8D4E3"
             },
             "line": {
              "color": "white"
             }
            },
            "type": "table"
           }
          ]
         },
         "layout": {
          "annotationdefaults": {
           "arrowcolor": "#2a3f5f",
           "arrowhead": 0,
           "arrowwidth": 1
          },
          "autotypenumbers": "strict",
          "coloraxis": {
           "colorbar": {
            "outlinewidth": 0,
            "ticks": ""
           }
          },
          "colorscale": {
           "diverging": [
            [
             0,
             "#8e0152"
            ],
            [
             0.1,
             "#c51b7d"
            ],
            [
             0.2,
             "#de77ae"
            ],
            [
             0.3,
             "#f1b6da"
            ],
            [
             0.4,
             "#fde0ef"
            ],
            [
             0.5,
             "#f7f7f7"
            ],
            [
             0.6,
             "#e6f5d0"
            ],
            [
             0.7,
             "#b8e186"
            ],
            [
             0.8,
             "#7fbc41"
            ],
            [
             0.9,
             "#4d9221"
            ],
            [
             1,
             "#276419"
            ]
           ],
           "sequential": [
            [
             0,
             "#0d0887"
            ],
            [
             0.1111111111111111,
             "#46039f"
            ],
            [
             0.2222222222222222,
             "#7201a8"
            ],
            [
             0.3333333333333333,
             "#9c179e"
            ],
            [
             0.4444444444444444,
             "#bd3786"
            ],
            [
             0.5555555555555556,
             "#d8576b"
            ],
            [
             0.6666666666666666,
             "#ed7953"
            ],
            [
             0.7777777777777778,
             "#fb9f3a"
            ],
            [
             0.8888888888888888,
             "#fdca26"
            ],
            [
             1,
             "#f0f921"
            ]
           ],
           "sequentialminus": [
            [
             0,
             "#0d0887"
            ],
            [
             0.1111111111111111,
             "#46039f"
            ],
            [
             0.2222222222222222,
             "#7201a8"
            ],
            [
             0.3333333333333333,
             "#9c179e"
            ],
            [
             0.4444444444444444,
             "#bd3786"
            ],
            [
             0.5555555555555556,
             "#d8576b"
            ],
            [
             0.6666666666666666,
             "#ed7953"
            ],
            [
             0.7777777777777778,
             "#fb9f3a"
            ],
            [
             0.8888888888888888,
             "#fdca26"
            ],
            [
             1,
             "#f0f921"
            ]
           ]
          },
          "colorway": [
           "#636efa",
           "#EF553B",
           "#00cc96",
           "#ab63fa",
           "#FFA15A",
           "#19d3f3",
           "#FF6692",
           "#B6E880",
           "#FF97FF",
           "#FECB52"
          ],
          "font": {
           "color": "#2a3f5f"
          },
          "geo": {
           "bgcolor": "white",
           "lakecolor": "white",
           "landcolor": "#E5ECF6",
           "showlakes": true,
           "showland": true,
           "subunitcolor": "white"
          },
          "hoverlabel": {
           "align": "left"
          },
          "hovermode": "closest",
          "mapbox": {
           "style": "light"
          },
          "paper_bgcolor": "white",
          "plot_bgcolor": "#E5ECF6",
          "polar": {
           "angularaxis": {
            "gridcolor": "white",
            "linecolor": "white",
            "ticks": ""
           },
           "bgcolor": "#E5ECF6",
           "radialaxis": {
            "gridcolor": "white",
            "linecolor": "white",
            "ticks": ""
           }
          },
          "scene": {
           "xaxis": {
            "backgroundcolor": "#E5ECF6",
            "gridcolor": "white",
            "gridwidth": 2,
            "linecolor": "white",
            "showbackground": true,
            "ticks": "",
            "zerolinecolor": "white"
           },
           "yaxis": {
            "backgroundcolor": "#E5ECF6",
            "gridcolor": "white",
            "gridwidth": 2,
            "linecolor": "white",
            "showbackground": true,
            "ticks": "",
            "zerolinecolor": "white"
           },
           "zaxis": {
            "backgroundcolor": "#E5ECF6",
            "gridcolor": "white",
            "gridwidth": 2,
            "linecolor": "white",
            "showbackground": true,
            "ticks": "",
            "zerolinecolor": "white"
           }
          },
          "shapedefaults": {
           "line": {
            "color": "#2a3f5f"
           }
          },
          "ternary": {
           "aaxis": {
            "gridcolor": "white",
            "linecolor": "white",
            "ticks": ""
           },
           "baxis": {
            "gridcolor": "white",
            "linecolor": "white",
            "ticks": ""
           },
           "bgcolor": "#E5ECF6",
           "caxis": {
            "gridcolor": "white",
            "linecolor": "white",
            "ticks": ""
           }
          },
          "title": {
           "x": 0.05
          },
          "xaxis": {
           "automargin": true,
           "gridcolor": "white",
           "linecolor": "white",
           "ticks": "",
           "title": {
            "standoff": 15
           },
           "zerolinecolor": "white",
           "zerolinewidth": 2
          },
          "yaxis": {
           "automargin": true,
           "gridcolor": "white",
           "linecolor": "white",
           "ticks": "",
           "title": {
            "standoff": 15
           },
           "zerolinecolor": "white",
           "zerolinewidth": 2
          }
         }
        },
        "title": {
         "text": "Vacunación COVID19 por grupo etario y sexo - Argentina"
        },
        "xaxis": {
         "ticktext": [
          "20%",
          "15%",
          "10%",
          "5%",
          0,
          "5%",
          "10%",
          "15%",
          "20%"
         ],
         "tickvals": [
          -20,
          -15,
          -10,
          -5,
          0,
          5,
          10,
          15,
          20
         ],
         "title": {
          "text": "% Vacunados"
         }
        },
        "xaxis2": {
         "anchor": "y2",
         "domain": [
          0.5015,
          1
         ]
        },
        "yaxis": {
         "title": {
          "text": "Grupo Etario"
         }
        },
        "yaxis2": {
         "anchor": "x2",
         "domain": [
          0,
          1
         ],
         "matches": "y",
         "showticklabels": false
        }
       }
      }
     },
     "metadata": {}
    }
   ],
   "source": [
    "#Url del dataset \n",
    "myUrl = 'https://sisa.msal.gov.ar/datos/descargas/covid-19/files/datos_nomivac_covid19.zip'\n",
    "#filename=\"C:/Users/lbejaran/Documents/PYTHON DS/covid_test.csv\"\n",
    "#leemos el dataset\n",
    "#usecols=[\"grupo_etario\",\"orden_dosis\",\"vacuna\"]\n",
    "data = pd.read_csv(myUrl,usecols=[\"sexo\",\"grupo_etario\",\"orden_dosis\",\"vacuna\"])\n",
    "#Agrupamos el dataset por grupo etario y la dosis, se cuenta la aplicacion de las dosis por la columna vacuna\n",
    "df = data.groupby([\"grupo_etario\",\"orden_dosis\",\"sexo\"], as_index=False).count()\n",
    "#Elimino valores de grupo etario sin informar\n",
    "df = df[df.grupo_etario != 'S.I.']\n",
    "#Primera dosis\n",
    "do_fem1 = df[(df.orden_dosis == 1) & (df.sexo == \"F\")]\n",
    "do_mas1 = df[(df.orden_dosis == 1) & (df.sexo == \"M\")]\n",
    "#Segunda dosis\n",
    "do_fem2 = df[(df.orden_dosis == 2) & (df.sexo == \"F\")]\n",
    "do_mas2 = df[(df.orden_dosis == 2) & (df.sexo == \"M\")]\n",
    "\n",
    "total_vac = do_fem1.vacuna.sum() + do_mas1.vacuna.sum() + do_fem2.vacuna.sum() + do_mas2.vacuna.sum()\n",
    "\n",
    "print(total_vac)\n",
    "eje_y = do_fem1.grupo_etario\n",
    "eje_xfem1 = ((100*do_fem1.vacuna).div(total_vac)).round(2)\n",
    "eje_xmas1 = (((100*do_mas1.vacuna).div(total_vac)).round(2) ) * -1\n",
    "eje_xfem2 = ((100*do_fem2.vacuna).div(total_vac)).round(2)\n",
    "eje_xmas2 = (((100*do_mas2.vacuna).div(total_vac)).round(2) ) * -1\n",
    "\n",
    "# Creating instance of the figure\n",
    "fig = gp.Figure()\n",
    "\n",
    "#Configuración de los graficos\n",
    "fig = make_subplots(rows=1, cols=2,\n",
    "                    subplot_titles=['Varones', 'Mujeres'],\n",
    "                    shared_yaxes=True, \n",
    "                    horizontal_spacing = 0.003\n",
    "                    )\n",
    "\n",
    "# Agregamos la data al gráfico de 1 dosis para mujeres\n",
    "fig.add_trace(gp.Bar(y= eje_y, x = eje_xfem1, \n",
    "                     name = '1ra Dosis', \n",
    "                     hoverinfo='x',\n",
    "                     marker_color='#E1C340',\n",
    "                     orientation = 'h')                    \n",
    "                     )\n",
    "# Agregamos la data al gráfico de 2 dosis para mujeres\n",
    "fig.add_trace(gp.Bar(y= eje_y, x = eje_xfem2, \n",
    "                     name = '2da Dosis', \n",
    "                     hoverinfo='x',\n",
    "                     marker_color='#F8EA8C',\n",
    "                     orientation = 'h')              \n",
    "                     )\n",
    "\n",
    "# Agregamos la data al gráfico de 1 dosis para varones\n",
    "fig.add_trace(gp.Bar(y = eje_y, x = eje_xmas1,\n",
    "                     name = '1ra Dosis', \n",
    "                     text=-1 * eje_xmas1.astype('float'),\n",
    "                     hoverinfo='text',\n",
    "                     marker_color='#4CD7D0',\n",
    "                     orientation = 'h')\n",
    "                     )\n",
    "# Agregamos la data al gráfico de 2 dosis para varones\n",
    "fig.add_trace(gp.Bar(y = eje_y, x = eje_xmas2,\n",
    "                     name = '2da Dosis', \n",
    "                     text=-1 * eje_xmas2.astype('float'),\n",
    "                     hoverinfo='text',\n",
    "                     #showlegend=False, **Desactiva etiqueta**\n",
    "                     marker_color='#A4E8E0',\n",
    "                     orientation = 'h')\n",
    "                     )\n",
    "\n",
    "# Updating the layout for our graph\n",
    "layout = fig.update_layout(title= \"Vacunación COVID19 por grupo etario y sexo - Argentina\",\n",
    "                            yaxis=go.layout.YAxis(title='Grupo Etario'),\n",
    "                            xaxis=go.layout.XAxis(\n",
    "                                #range=[-1200, 1200],\n",
    "                                tickvals=[-20, -15, -10, -5, 0, 5, 10, 15, 20],\n",
    "                                ticktext=[\"20%\", \"15%\", \"10%\",\"5%\", 0, \"5%\", \"10%\", \"15%\",\"20%\"],\n",
    "                                title='% Vacunados'),\n",
    "                            barmode='overlay',\n",
    "                            bargap=0.1)\n",
    "fig.show()"
   ]
  },
  {
   "cell_type": "code",
   "execution_count": null,
   "metadata": {},
   "outputs": [],
   "source": []
  }
 ]
}